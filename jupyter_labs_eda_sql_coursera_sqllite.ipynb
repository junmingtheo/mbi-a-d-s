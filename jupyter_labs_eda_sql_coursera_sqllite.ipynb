{
  "cells": [
    {
      "cell_type": "markdown",
      "metadata": {
        "id": "c4e747ea-f7a0-4202-9063-360f31384ff7"
      },
      "source": [
        "<p style=\"text-align:center\">\n",
        "    <a href=\"https://skills.network\" target=\"_blank\">\n",
        "    <img src=\"https://cf-courses-data.s3.us.cloud-object-storage.appdomain.cloud/assets/logos/SN_web_lightmode.png\" width=\"200\" alt=\"Skills Network Logo\">\n",
        "    </a>\n",
        "</p>\n",
        "\n",
        "<h1 align=center><font size = 5>Assignment: SQL Notebook for Peer Assignment</font></h1>\n",
        "\n",
        "Estimated time needed: **60** minutes.\n",
        "\n",
        "## Introduction\n",
        "Using this Python notebook you will:\n",
        "\n",
        "1.  Understand the Spacex DataSet\n",
        "2.  Load the dataset  into the corresponding table in a Db2 database\n",
        "3.  Execute SQL queries to answer assignment questions\n"
      ]
    },
    {
      "cell_type": "markdown",
      "metadata": {
        "id": "1de366ba-6c45-4fac-9c23-0b811c712142"
      },
      "source": [
        "## Overview of the DataSet\n",
        "\n",
        "SpaceX has gained worldwide attention for a series of historic milestones.\n",
        "\n",
        "It is the only private company ever to return a spacecraft from low-earth orbit, which it first accomplished in December 2010.\n",
        "SpaceX advertises Falcon 9 rocket launches on its website with a cost of 62 million dollars wheras other providers cost upward of 165 million dollars each, much of the savings is because Space X can reuse the first stage.\n",
        "\n",
        "\n",
        "Therefore if we can determine if the first stage will land, we can determine the cost of a launch.\n",
        "\n",
        "This information can be used if an alternate company wants to bid against SpaceX for a rocket launch.\n",
        "\n",
        "This dataset includes a record for each payload carried during a SpaceX mission into outer space.\n"
      ]
    },
    {
      "cell_type": "markdown",
      "metadata": {
        "id": "d277fcfd-853f-4513-85e6-a045d80c15b2"
      },
      "source": [
        "### Download the datasets\n",
        "\n",
        "This assignment requires you to load the spacex dataset.\n",
        "\n",
        "In many cases the dataset to be analyzed is available as a .CSV (comma separated values) file, perhaps on the internet. Click on the link below to download and save the dataset (.CSV file):\n",
        "\n",
        " <a href=\"https://cf-courses-data.s3.us.cloud-object-storage.appdomain.cloud/IBM-DS0321EN-SkillsNetwork/labs/module_2/data/Spacex.csv\" target=\"_blank\">Spacex DataSet</a>\n",
        "\n"
      ]
    },
    {
      "cell_type": "code",
      "metadata": {
        "colab": {
          "base_uri": "https://localhost:8080/"
        },
        "id": "64aead5d-1eb1-46db-8688-b41dd8db1113",
        "outputId": "b9be29f0-3c53-4f8e-b907-85882f6cc480"
      },
      "outputs": [
        {
          "output_type": "stream",
          "name": "stdout",
          "text": [
            "Collecting sqlalchemy==1.3.9\n",
            "  Downloading SQLAlchemy-1.3.9.tar.gz (6.0 MB)\n",
            "\u001b[2K     \u001b[90m━━━━━━━━━━━━━━━━━━━━━━━━━━━━━━━━━━━━━━━━\u001b[0m \u001b[32m6.0/6.0 MB\u001b[0m \u001b[31m35.3 MB/s\u001b[0m eta \u001b[36m0:00:00\u001b[0m\n",
            "\u001b[?25h  Preparing metadata (setup.py) ... \u001b[?25l\u001b[?25hdone\n",
            "Building wheels for collected packages: sqlalchemy\n",
            "  Building wheel for sqlalchemy (setup.py) ... \u001b[?25l\u001b[?25hdone\n",
            "  Created wheel for sqlalchemy: filename=SQLAlchemy-1.3.9-cp310-cp310-linux_x86_64.whl size=1192338 sha256=14d5ed08c3bce49e4800b1ec779089c40f1703bd1f3c5d9646c81040c37a6d30\n",
            "  Stored in directory: /root/.cache/pip/wheels/8b/6d/9c/e1793e5a2d85b89b8c362a4f0e3def54b786bcd14923b9ff00\n",
            "Successfully built sqlalchemy\n",
            "Installing collected packages: sqlalchemy\n",
            "  Attempting uninstall: sqlalchemy\n",
            "    Found existing installation: SQLAlchemy 2.0.20\n",
            "    Uninstalling SQLAlchemy-2.0.20:\n",
            "      Successfully uninstalled SQLAlchemy-2.0.20\n",
            "\u001b[31mERROR: pip's dependency resolver does not currently take into account all the packages that are installed. This behaviour is the source of the following dependency conflicts.\n",
            "ipython-sql 0.5.0 requires sqlalchemy>=2.0, but you have sqlalchemy 1.3.9 which is incompatible.\u001b[0m\u001b[31m\n",
            "\u001b[0mSuccessfully installed sqlalchemy-1.3.9\n"
          ]
        }
      ],
      "source": [
        "!pip install sqlalchemy==1.3.9\n"
      ],
      "execution_count": null
    },
    {
      "cell_type": "markdown",
      "metadata": {
        "id": "bddc2093-b04a-4b1c-b783-aedfbcda037e"
      },
      "source": [
        "### Connect to the database\n",
        "\n",
        "Let us first load the SQL extension and establish a connection with the database\n"
      ]
    },
    {
      "cell_type": "code",
      "metadata": {
        "id": "92667fea-1ddd-474b-beba-1d01d7a3b833",
        "colab": {
          "base_uri": "https://localhost:8080/"
        },
        "outputId": "e8ba7c3e-5f94-408f-996f-4da8c88d119b"
      },
      "outputs": [
        {
          "output_type": "stream",
          "name": "stdout",
          "text": [
            "The sql extension is already loaded. To reload it, use:\n",
            "  %reload_ext sql\n"
          ]
        }
      ],
      "source": [
        "%load_ext sql"
      ],
      "execution_count": 80
    },
    {
      "cell_type": "code",
      "metadata": {
        "id": "6b76fefe-55fc-4855-a48c-032d2489a2f1"
      },
      "outputs": [],
      "source": [
        "import csv, sqlite3\n",
        "\n",
        "con = sqlite3.connect(\"tatabase.db\")\n",
        "\n",
        "cur = con.cursor()"
      ],
      "execution_count": 81
    },
    {
      "cell_type": "code",
      "metadata": {
        "id": "8f58dd00-a1cf-4197-88bb-4242b0cbca5e"
      },
      "outputs": [],
      "source": [
        "#!pip install -q pandas==1.1.5"
      ],
      "execution_count": 82
    },
    {
      "cell_type": "code",
      "metadata": {
        "id": "2513d0c8-8bc6-455e-adc5-4527c646dfa2"
      },
      "outputs": [],
      "source": [
        "%sql sqlite:///tatabase.db"
      ],
      "execution_count": 83
    },
    {
      "cell_type": "code",
      "metadata": {
        "colab": {
          "base_uri": "https://localhost:8080/"
        },
        "id": "599c12da-b933-471c-a36a-3ef8cadb70ee",
        "outputId": "64a79d25-595e-45e9-c6ff-3d75ede0585d"
      },
      "outputs": [
        {
          "output_type": "execute_result",
          "data": {
            "text/plain": [
              "101"
            ]
          },
          "metadata": {},
          "execution_count": 84
        }
      ],
      "source": [
        "import pandas as pd\n",
        "df = pd.read_csv(\"https://cf-courses-data.s3.us.cloud-object-storage.appdomain.cloud/IBM-DS0321EN-SkillsNetwork/labs/module_2/data/Spacex.csv\")\n",
        "df.to_sql(\"SPACEXTBL\", con, if_exists='replace', index=False,method=\"multi\")"
      ],
      "execution_count": 84
    },
    {
      "cell_type": "markdown",
      "metadata": {
        "id": "bea9ad35-a1e5-4402-95b5-12a0b574df3f"
      },
      "source": [
        "**Note:This below code is added to remove blank rows from table**\n"
      ]
    },
    {
      "cell_type": "code",
      "metadata": {
        "colab": {
          "base_uri": "https://localhost:8080/"
        },
        "id": "9deb9d06-9ae3-4d51-bad4-e8bdb209434f",
        "outputId": "50d115ee-6e4d-4dac-cb52-e89d8bd70108"
      },
      "outputs": [
        {
          "output_type": "stream",
          "name": "stdout",
          "text": [
            " * sqlite:///tatabase.db\n",
            "(sqlite3.OperationalError) table SPACEXTABLE already exists\n",
            "[SQL: create table SPACEXTABLE as select * from SPACEXTBL where Date is not null]\n",
            "(Background on this error at: https://sqlalche.me/e/20/e3q8)\n"
          ]
        }
      ],
      "source": [
        "%sql create table SPACEXTABLE as select * from SPACEXTBL where Date is not null"
      ],
      "execution_count": 85
    },
    {
      "cell_type": "markdown",
      "metadata": {
        "id": "44d6eb53-73e2-4391-90a9-20bf4868a3c4"
      },
      "source": [
        "## Tasks\n",
        "\n",
        "Now write and execute SQL queries to solve the assignment tasks.\n",
        "\n",
        "**Note: If the column names are in mixed case enclose it in double quotes\n",
        "   For Example \"Landing_Outcome\"**\n",
        "\n",
        "### Task 1\n",
        "\n",
        "\n",
        "\n",
        "\n",
        "##### Display the names of the unique launch sites  in the space mission\n"
      ]
    },
    {
      "cell_type": "code",
      "metadata": {
        "colab": {
          "base_uri": "https://localhost:8080/",
          "height": 158
        },
        "id": "c35dac29-9883-415c-a356-c282c821e867",
        "outputId": "e004e89c-6493-44e9-f767-6392f1523cdb"
      },
      "outputs": [
        {
          "output_type": "stream",
          "name": "stdout",
          "text": [
            " * sqlite:///tatabase.db\n",
            "Done.\n"
          ]
        },
        {
          "output_type": "execute_result",
          "data": {
            "text/plain": [
              "[('CCAFS LC-40',), ('VAFB SLC-4E',), ('KSC LC-39A',), ('CCAFS SLC-40',)]"
            ],
            "text/html": [
              "<table>\n",
              "    <thead>\n",
              "        <tr>\n",
              "            <th>Launch_Site</th>\n",
              "        </tr>\n",
              "    </thead>\n",
              "    <tbody>\n",
              "        <tr>\n",
              "            <td>CCAFS LC-40</td>\n",
              "        </tr>\n",
              "        <tr>\n",
              "            <td>VAFB SLC-4E</td>\n",
              "        </tr>\n",
              "        <tr>\n",
              "            <td>KSC LC-39A</td>\n",
              "        </tr>\n",
              "        <tr>\n",
              "            <td>CCAFS SLC-40</td>\n",
              "        </tr>\n",
              "    </tbody>\n",
              "</table>"
            ]
          },
          "metadata": {},
          "execution_count": 86
        }
      ],
      "source": [
        "display = %sql select distinct \"Launch_Site\" from SPACEXTABLE\n",
        "display"
      ],
      "execution_count": 86
    },
    {
      "cell_type": "markdown",
      "metadata": {
        "id": "4df3aa36-1722-4aaa-b4fb-cbc57f1758ff"
      },
      "source": [
        "\n",
        "### Task 2\n",
        "\n",
        "\n",
        "#####  Display 5 records where launch sites begin with the string 'CCA'\n"
      ]
    },
    {
      "cell_type": "code",
      "metadata": {
        "id": "978c0062-6029-4ecf-9ba7-fc66734bee4b"
      },
      "outputs": [],
      "source": [
        "query= %sql select * from SPACEXTABLE where Launch_Site like \"%CCA%\";\n",
        "query\n"
      ],
      "execution_count": null
    },
    {
      "cell_type": "markdown",
      "metadata": {
        "id": "2893678b-3e81-456f-ad70-f1a44054912a"
      },
      "source": [
        "### Task 3\n",
        "\n",
        "\n",
        "\n",
        "\n",
        "##### Display the total payload mass carried by boosters launched by NASA (CRS)\n"
      ]
    },
    {
      "cell_type": "code",
      "metadata": {
        "colab": {
          "base_uri": "https://localhost:8080/",
          "height": 95
        },
        "id": "b8d8aaf2-7630-460f-a3a9-554f79f06ae2",
        "outputId": "874430e0-748d-4aa6-9b92-bd1da8db9371"
      },
      "outputs": [
        {
          "output_type": "stream",
          "name": "stdout",
          "text": [
            " * sqlite:///tatabase.db\n",
            "Done.\n"
          ]
        },
        {
          "output_type": "execute_result",
          "data": {
            "text/plain": [
              "[(48213,)]"
            ],
            "text/html": [
              "<table>\n",
              "    <thead>\n",
              "        <tr>\n",
              "            <th>sum(PAYLOAD_MASS__KG_)</th>\n",
              "        </tr>\n",
              "    </thead>\n",
              "    <tbody>\n",
              "        <tr>\n",
              "            <td>48213</td>\n",
              "        </tr>\n",
              "    </tbody>\n",
              "</table>"
            ]
          },
          "metadata": {},
          "execution_count": 88
        }
      ],
      "source": [
        "query = %sql select sum(PAYLOAD_MASS__KG_) from SPACEXTABLE where Customer like \"NASA (CRS)%\"\n",
        "query"
      ],
      "execution_count": 88
    },
    {
      "cell_type": "markdown",
      "metadata": {
        "id": "296485d5-a4b6-48b2-82ac-14f69b8c78c6"
      },
      "source": [
        "### Task 4\n",
        "\n",
        "\n",
        "\n",
        "\n",
        "##### Display average payload mass carried by booster version F9 v1.1\n"
      ]
    },
    {
      "cell_type": "code",
      "metadata": {
        "colab": {
          "base_uri": "https://localhost:8080/",
          "height": 95
        },
        "id": "df735bfb-1674-4314-b627-0dd655bda1fe",
        "outputId": "31500002-7a30-4122-d6ed-83df61ccb51e"
      },
      "outputs": [
        {
          "output_type": "stream",
          "name": "stdout",
          "text": [
            " * sqlite:///tatabase.db\n",
            "Done.\n"
          ]
        },
        {
          "output_type": "execute_result",
          "data": {
            "text/plain": [
              "[(2534.6666666666665,)]"
            ],
            "text/html": [
              "<table>\n",
              "    <thead>\n",
              "        <tr>\n",
              "            <th>avg(PAYLOAD_MASS__KG_)</th>\n",
              "        </tr>\n",
              "    </thead>\n",
              "    <tbody>\n",
              "        <tr>\n",
              "            <td>2534.6666666666665</td>\n",
              "        </tr>\n",
              "    </tbody>\n",
              "</table>"
            ]
          },
          "metadata": {},
          "execution_count": 89
        }
      ],
      "source": [
        "query = %sql select avg(PAYLOAD_MASS__KG_) from SPACEXTABLE where Booster_Version like \"%F9 v1.1%\";\n",
        "query"
      ],
      "execution_count": 89
    },
    {
      "cell_type": "markdown",
      "metadata": {
        "id": "3b1cb2a4-d651-4127-a486-7149ebb8d1ee"
      },
      "source": [
        "### Task 5\n",
        "\n",
        "##### List the date when the first succesful landing outcome in ground pad was acheived.\n",
        "\n",
        "\n",
        "_Hint:Use min function_\n"
      ]
    },
    {
      "cell_type": "code",
      "metadata": {
        "colab": {
          "base_uri": "https://localhost:8080/",
          "height": 95
        },
        "id": "5c9a8585-4af8-474c-baa9-c7f6626515af",
        "outputId": "353da813-7be4-4731-d5be-84bf3e2b5946"
      },
      "outputs": [
        {
          "output_type": "stream",
          "name": "stdout",
          "text": [
            " * sqlite:///tatabase.db\n",
            "Done.\n"
          ]
        },
        {
          "output_type": "execute_result",
          "data": {
            "text/plain": [
              "[('2010-04-06',)]"
            ],
            "text/html": [
              "<table>\n",
              "    <thead>\n",
              "        <tr>\n",
              "            <th>Date</th>\n",
              "        </tr>\n",
              "    </thead>\n",
              "    <tbody>\n",
              "        <tr>\n",
              "            <td>2010-04-06</td>\n",
              "        </tr>\n",
              "    </tbody>\n",
              "</table>"
            ]
          },
          "metadata": {},
          "execution_count": 117
        }
      ],
      "source": [
        "query= %sql select min(date(Date)) as \"Date\" from SPACEXTABLE;\n",
        "query"
      ],
      "execution_count": 117
    },
    {
      "cell_type": "markdown",
      "metadata": {
        "id": "fd1734e6-414d-4475-8eeb-f81903922c1c"
      },
      "source": [
        "### Task 6\n",
        "\n",
        "##### List the names of the boosters which have success in drone ship and have payload mass greater than 4000 but less than 6000\n"
      ]
    },
    {
      "cell_type": "code",
      "metadata": {
        "id": "9a1bff73-f6ed-4116-8cf4-61f32b2f67cc"
      },
      "outputs": [],
      "source": [
        "query= %sql select Booster_Version from SPACEXTABLE where Mission_Outcome = \"Success\" \\\n",
        "and (select PAYLOAD_MASS__KG_ from SPACEXTABLE where PAYLOAD_MASS__KG_ between 4000 and 6000)\n",
        "# %sql select *  from SPACEXTABLE limit 20;\n",
        "query"
      ],
      "execution_count": null
    },
    {
      "cell_type": "markdown",
      "metadata": {
        "id": "3c080021-dca3-45f4-9668-e1ba48093b2a"
      },
      "source": [
        "### Task 7\n",
        "\n",
        "\n",
        "\n",
        "\n",
        "##### List the total number of successful and failure mission outcomes\n"
      ]
    },
    {
      "cell_type": "code",
      "metadata": {
        "colab": {
          "base_uri": "https://localhost:8080/",
          "height": 116
        },
        "id": "d7740174-ea4d-4182-ab88-2bd454732dac",
        "outputId": "3211e1af-e230-47e1-cacb-9553a46e5f0b"
      },
      "outputs": [
        {
          "output_type": "stream",
          "name": "stdout",
          "text": [
            " * sqlite:///tatabase.db\n",
            "Done.\n"
          ]
        },
        {
          "output_type": "execute_result",
          "data": {
            "text/plain": [
              "[('failure', 1), ('success', 100)]"
            ],
            "text/html": [
              "<table>\n",
              "    <thead>\n",
              "        <tr>\n",
              "            <th>new_outcome</th>\n",
              "            <th>freq</th>\n",
              "        </tr>\n",
              "    </thead>\n",
              "    <tbody>\n",
              "        <tr>\n",
              "            <td>failure</td>\n",
              "            <td>1</td>\n",
              "        </tr>\n",
              "        <tr>\n",
              "            <td>success</td>\n",
              "            <td>100</td>\n",
              "        </tr>\n",
              "    </tbody>\n",
              "</table>"
            ]
          },
          "metadata": {},
          "execution_count": 92
        }
      ],
      "source": [
        "query = %sql select case when Mission_Outcome like \"%Success%\" then \"success\" else \"failure\" end as new_outcome, count(*) as freq from \\\n",
        "SPACEXTABLE where Mission_Outcome like \"%Success%\" or Mission_Outcome like \"%Fail%\" group by new_outcome\n",
        "query"
      ],
      "execution_count": 92
    },
    {
      "cell_type": "markdown",
      "metadata": {
        "id": "c2a2afae-bbd2-46e8-b507-030450838bbe"
      },
      "source": [
        "### Task 8\n",
        "\n",
        "\n",
        "\n",
        "##### List the   names of the booster_versions which have carried the maximum payload mass. Use a subquery\n"
      ]
    },
    {
      "cell_type": "code",
      "metadata": {
        "id": "b3e33eab-2fd8-42cb-b7e4-a2ab33ed93b6"
      },
      "outputs": [],
      "source": [
        "query = %sql select Booster_Version from SPACEXTABLE where PAYLOAD_MASS__KG_ = (select max(PAYLOAD_MASS__KG_) from SPACEXTABLE);\n",
        "query"
      ],
      "execution_count": null
    },
    {
      "cell_type": "markdown",
      "metadata": {
        "id": "ee4b9b54-0c34-4fd1-8546-d7ff56be4545"
      },
      "source": [
        "### Task 9\n",
        "\n",
        "\n",
        "##### List the records which will display the month names, failure landing_outcomes in drone ship ,booster versions, launch_site for the months in year 2015.\n",
        "\n",
        "**Note: SQLLite does not support monthnames. So you need to use  substr(Date, 4, 2) as month to get the months and substr(Date,7,4)='2015' for year.**\n"
      ]
    },
    {
      "cell_type": "code",
      "metadata": {
        "colab": {
          "base_uri": "https://localhost:8080/",
          "height": 116
        },
        "id": "7f4a6f9f-16d5-46c7-b8c5-ea98f2a9cda7",
        "outputId": "55aea2fe-44ec-4c1f-d1db-73d0bfec6149"
      },
      "outputs": [
        {
          "output_type": "stream",
          "name": "stdout",
          "text": [
            " * sqlite:///tatabase.db\n",
            "Done.\n"
          ]
        },
        {
          "output_type": "execute_result",
          "data": {
            "text/plain": [
              "[('oct', 'F9 v1.1 B1012', 'Failure (drone ship)', '2015-10-01'),\n",
              " ('apr', 'F9 v1.1 B1015', 'Failure (drone ship)', '2015-04-14')]"
            ],
            "text/html": [
              "<table>\n",
              "    <thead>\n",
              "        <tr>\n",
              "            <th>Month</th>\n",
              "            <th>Booster_Version</th>\n",
              "            <th>Landing_Outcome</th>\n",
              "            <th>Date</th>\n",
              "        </tr>\n",
              "    </thead>\n",
              "    <tbody>\n",
              "        <tr>\n",
              "            <td>oct</td>\n",
              "            <td>F9 v1.1 B1012</td>\n",
              "            <td>Failure (drone ship)</td>\n",
              "            <td>2015-10-01</td>\n",
              "        </tr>\n",
              "        <tr>\n",
              "            <td>apr</td>\n",
              "            <td>F9 v1.1 B1015</td>\n",
              "            <td>Failure (drone ship)</td>\n",
              "            <td>2015-04-14</td>\n",
              "        </tr>\n",
              "    </tbody>\n",
              "</table>"
            ]
          },
          "metadata": {},
          "execution_count": 114
        }
      ],
      "source": [
        "query=%sql select case WHEN substr(Date,6,2) = \"01\" THEN \"jan\" WHEN substr(Date,6,2) = \"02\" THEN \"feb\" \\\n",
        "WHEN substr(Date,6,2) = \"03\" THEN \"mar\" WHEN substr(Date,6,2) = \"04\" THEN \"apr\" \\\n",
        "WHEN substr(Date,6,2) = \"05\" THEN \"may\" WHEN substr(Date,6,2) = \"06\" THEN \"jun\" \\\n",
        "WHEN substr(Date,6,2) = \"07\" THEN \"jul\" WHEN substr(Date,6,2) = \"08\" THEN \"aug\" \\\n",
        "WHEN substr(Date,6,2) = \"09\" THEN \"sep\" WHEN substr(Date,6,2) = \"10\" THEN \"oct\" \\\n",
        "WHEN substr(Date,6,2) = \"11\" THEN \"nov\" else \"dec\" end as \"Month\", Booster_Version , Landing_Outcome , Date from SPACEXTABLE \\\n",
        "where Landing_Outcome like \"Failure (drone ship)\" and substr(Date,1,4) = \"2015\";\n",
        "query"
      ],
      "execution_count": 114
    },
    {
      "cell_type": "markdown",
      "metadata": {
        "id": "33a06aff-61d2-4452-bc6f-216c1ff64598"
      },
      "source": [
        "### Task 10\n",
        "\n",
        "\n",
        "\n",
        "\n",
        "##### Rank the count of landing outcomes (such as Failure (drone ship) or Success (ground pad)) between the date 2010-06-04 and 2017-03-20, in descending order.\n"
      ]
    },
    {
      "cell_type": "code",
      "metadata": {
        "id": "afffe3c3-61d8-4052-9630-0543408aa262",
        "colab": {
          "base_uri": "https://localhost:8080/"
        },
        "outputId": "5f407e21-a30d-43d5-ea66-414b1632fca8"
      },
      "outputs": [
        {
          "output_type": "stream",
          "name": "stdout",
          "text": [
            " * sqlite:///tatabase.db\n",
            "Done.\n",
            " * sqlite:///tatabase.db\n",
            "Done.\n",
            "8 rows affected.\n"
          ]
        },
        {
          "output_type": "execute_result",
          "data": {
            "text/plain": [
              "[]"
            ]
          },
          "metadata": {},
          "execution_count": 142
        }
      ],
      "source": [
        "%sql create table new_table as select count(*) as freq, Landing_Outcome as Outcome from SPACEXTABLE where date(Date) between '2010-06-04' and '2017-03-20' group by Landing_Outcome order by freq Desc;\n",
        "%sql create table ranking(\"rank\" varchar(10), \"Outcome\" varchar(255)); insert into ranking(rank,Outcome) values (\"1st\",\t\"No attempt\"), \\\n",
        "(\"2nd\",\t\"Success (ground pad)\"),(\"2nd\",\t\"Success (drone ship)\"),(\"3rd\",\t\"Failure (drone ship)\"),(\"4th\",\t\"Controlled (ocean)\"),(\"5th\",\t\"Uncontrolled (ocean)\"), \\\n",
        "(\"6th\",\t\"Precluded (drone ship)\"),(\"6th\",\t\"Failure (parachute)\");\n",
        "\n"
      ],
      "execution_count": 142
    },
    {
      "cell_type": "code",
      "source": [
        "query=%sql select rk.rank, nt.outcome, nt.freq from new_table as nt inner join ranking as rk on nt.Outcome = rk.Outcome\n",
        "query"
      ],
      "metadata": {
        "colab": {
          "base_uri": "https://localhost:8080/",
          "height": 242
        },
        "id": "SKvKUvGjANIj",
        "outputId": "f3ab4f6e-0428-4dd7-aa97-901aabb45976"
      },
      "execution_count": 147,
      "outputs": [
        {
          "output_type": "stream",
          "name": "stdout",
          "text": [
            " * sqlite:///tatabase.db\n",
            "Done.\n"
          ]
        },
        {
          "output_type": "execute_result",
          "data": {
            "text/plain": [
              "[('1st', 'No attempt', 10),\n",
              " ('2nd', 'Success (ground pad)', 5),\n",
              " ('2nd', 'Success (drone ship)', 5),\n",
              " ('3rd', 'Failure (drone ship)', 5),\n",
              " ('4th', 'Controlled (ocean)', 3),\n",
              " ('5th', 'Uncontrolled (ocean)', 2),\n",
              " ('6th', 'Precluded (drone ship)', 1),\n",
              " ('6th', 'Failure (parachute)', 1)]"
            ],
            "text/html": [
              "<table>\n",
              "    <thead>\n",
              "        <tr>\n",
              "            <th>rank</th>\n",
              "            <th>Outcome</th>\n",
              "            <th>freq</th>\n",
              "        </tr>\n",
              "    </thead>\n",
              "    <tbody>\n",
              "        <tr>\n",
              "            <td>1st</td>\n",
              "            <td>No attempt</td>\n",
              "            <td>10</td>\n",
              "        </tr>\n",
              "        <tr>\n",
              "            <td>2nd</td>\n",
              "            <td>Success (ground pad)</td>\n",
              "            <td>5</td>\n",
              "        </tr>\n",
              "        <tr>\n",
              "            <td>2nd</td>\n",
              "            <td>Success (drone ship)</td>\n",
              "            <td>5</td>\n",
              "        </tr>\n",
              "        <tr>\n",
              "            <td>3rd</td>\n",
              "            <td>Failure (drone ship)</td>\n",
              "            <td>5</td>\n",
              "        </tr>\n",
              "        <tr>\n",
              "            <td>4th</td>\n",
              "            <td>Controlled (ocean)</td>\n",
              "            <td>3</td>\n",
              "        </tr>\n",
              "        <tr>\n",
              "            <td>5th</td>\n",
              "            <td>Uncontrolled (ocean)</td>\n",
              "            <td>2</td>\n",
              "        </tr>\n",
              "        <tr>\n",
              "            <td>6th</td>\n",
              "            <td>Precluded (drone ship)</td>\n",
              "            <td>1</td>\n",
              "        </tr>\n",
              "        <tr>\n",
              "            <td>6th</td>\n",
              "            <td>Failure (parachute)</td>\n",
              "            <td>1</td>\n",
              "        </tr>\n",
              "    </tbody>\n",
              "</table>"
            ]
          },
          "metadata": {},
          "execution_count": 147
        }
      ]
    },
    {
      "cell_type": "markdown",
      "metadata": {
        "id": "42e81ab6-8308-4024-88f5-31f9ec897f99"
      },
      "source": [
        "### Reference Links\n",
        "\n",
        "* <a href =\"https://cf-courses-data.s3.us.cloud-object-storage.appdomain.cloud/IBMDeveloperSkillsNetwork-DB0201EN-SkillsNetwork/labs/Labs_Coursera_V5/labs/Lab%20-%20String%20Patterns%20-%20Sorting%20-%20Grouping/instructional-labs.md.html?origin=www.coursera.org\">Hands-on Lab : String Patterns, Sorting and Grouping</a>  \n",
        "\n",
        "*  <a  href=\"https://cf-courses-data.s3.us.cloud-object-storage.appdomain.cloud/IBMDeveloperSkillsNetwork-DB0201EN-SkillsNetwork/labs/Labs_Coursera_V5/labs/Lab%20-%20Built-in%20functions%20/Hands-on_Lab__Built-in_Functions.md.html?origin=www.coursera.org\">Hands-on Lab: Built-in functions</a>\n",
        "\n",
        "*  <a  href=\"https://cf-courses-data.s3.us.cloud-object-storage.appdomain.cloud/IBMDeveloperSkillsNetwork-DB0201EN-SkillsNetwork/labs/Labs_Coursera_V5/labs/Lab%20-%20Sub-queries%20and%20Nested%20SELECTs%20/instructional-labs.md.html?origin=www.coursera.org\">Hands-on Lab : Sub-queries and Nested SELECT Statements</a>\n",
        "\n",
        "*   <a href=\"https://cf-courses-data.s3.us.cloud-object-storage.appdomain.cloud/IBMDeveloperSkillsNetwork-DB0201EN-SkillsNetwork/labs/Module%205/DB0201EN-Week3-1-3-SQLmagic.ipynb\">Hands-on Tutorial: Accessing Databases with SQL magic</a>\n",
        "\n",
        "*  <a href= \"https://cf-courses-data.s3.us.cloud-object-storage.appdomain.cloud/IBMDeveloperSkillsNetwork-DB0201EN-SkillsNetwork/labs/Module%205/DB0201EN-Week3-1-4-Analyzing.ipynb\">Hands-on Lab: Analyzing a real World Data Set</a>\n",
        "\n",
        "\n"
      ]
    },
    {
      "cell_type": "markdown",
      "metadata": {
        "id": "e474d7da-bdf3-4a29-b51d-2037393f28c0"
      },
      "source": [
        "## Author(s)\n",
        "\n",
        "<h4> Lakshmi Holla </h4>\n"
      ]
    },
    {
      "cell_type": "markdown",
      "metadata": {
        "id": "a40998c8-e9ef-405e-b6a3-fabe17cd2c42"
      },
      "source": [
        "## Other Contributors\n",
        "\n",
        "<h4> Rav Ahuja </h4>\n"
      ]
    },
    {
      "cell_type": "markdown",
      "metadata": {
        "id": "9a1ec049-b228-4de8-a62c-baca3239122e"
      },
      "source": [
        "## Change log\n",
        "| Date | Version | Changed by | Change Description |\n",
        "|------|--------|--------|---------|\n",
        "| 2021-07-09 | 0.2 |Lakshmi Holla | Changes made in magic sql|\n",
        "| 2021-05-20 | 0.1 |Lakshmi Holla | Created Initial Version |\n"
      ]
    },
    {
      "cell_type": "markdown",
      "metadata": {
        "id": "51df9d33-2976-4aa1-bdc3-a6fe4ff2bb9e"
      },
      "source": [
        "## <h3 align=\"center\"> © IBM Corporation 2021. All rights reserved. <h3/>\n"
      ]
    }
  ],
  "metadata": {
    "kernelspec": {
      "display_name": "Python",
      "language": "python",
      "name": "conda-env-python-py"
    },
    "language_info": {
      "name": ""
    },
    "colab": {
      "provenance": []
    }
  },
  "nbformat": 4,
  "nbformat_minor": 0
}